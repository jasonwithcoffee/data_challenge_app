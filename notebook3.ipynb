{
 "cells": [
  {
   "cell_type": "code",
   "execution_count": 69,
   "id": "da416803",
   "metadata": {},
   "outputs": [],
   "source": [
    "import pandas as pd\n",
    "import numpy as np\n",
    "import seaborn as sns\n",
    "import matplotlib.pyplot as plt\n",
    "import matplotlib.dates as mdates"
   ]
  },
  {
   "cell_type": "code",
   "execution_count": 3,
   "id": "99b18cce",
   "metadata": {},
   "outputs": [],
   "source": [
    "df_account = pd.read_csv('../challenge_data/account_dat.csv')\n",
    "df_app = pd.read_csv('../challenge_data/app_dat.csv')\n",
    "df_category = pd.read_csv('../challenge_data/category_ref.csv')\n",
    "df_device = pd.read_csv('../challenge_data/device_ref.csv')\n",
    "df_in_app = pd.read_csv('../challenge_data/in-app_dat.csv')\n",
    "df_transaction = pd.read_csv('../challenge_data/transaction_dat.csv')"
   ]
  },
  {
   "cell_type": "markdown",
   "id": "d5ec456c",
   "metadata": {},
   "source": [
    "### Denormalize data to three dataframes\n",
    "1. df_app_all: dataframe with details on both app and in_app content_id's\n",
    "2. df_trn_denorm: dataframe with transactions, account, and device\n",
    "3. df_wide: dataframe with all columns\n",
    "\n",
    "\n",
    "#### Reason for df_app_all\n",
    "transaction 'content_id' can either be the 'content_id' of the in_app item or the 'content_id' of the app\n",
    "\n",
    "Solution: \n",
    "- create a table with union of both app and in_app\n",
    "- To union app and in_app, I needed to define a type for app. As defined, type = 'the type of in-app content'. I added \"download_only\" as a new type for app. This behavior is when a user downloads the app, which is different from the \"consumable\" and \"subscription\" behaviors.\n"
   ]
  },
  {
   "cell_type": "code",
   "execution_count": 20,
   "id": "b7794301",
   "metadata": {},
   "outputs": [
    {
     "data": {
      "text/html": [
       "<div>\n",
       "<style scoped>\n",
       "    .dataframe tbody tr th:only-of-type {\n",
       "        vertical-align: middle;\n",
       "    }\n",
       "\n",
       "    .dataframe tbody tr th {\n",
       "        vertical-align: top;\n",
       "    }\n",
       "\n",
       "    .dataframe thead th {\n",
       "        text-align: right;\n",
       "    }\n",
       "</style>\n",
       "<table border=\"1\" class=\"dataframe\">\n",
       "  <thead>\n",
       "    <tr style=\"text-align: right;\">\n",
       "      <th></th>\n",
       "      <th>parent_app_content_id</th>\n",
       "      <th>content_id</th>\n",
       "      <th>type</th>\n",
       "      <th>app_name</th>\n",
       "      <th>category_id</th>\n",
       "      <th>device_id</th>\n",
       "      <th>category_name</th>\n",
       "      <th>device_name</th>\n",
       "    </tr>\n",
       "  </thead>\n",
       "  <tbody>\n",
       "    <tr>\n",
       "      <th>0</th>\n",
       "      <td>d2bde35599e0dae9</td>\n",
       "      <td>227227a77c59809b</td>\n",
       "      <td>consumable</td>\n",
       "      <td>lactantem prevailing</td>\n",
       "      <td>Z-1</td>\n",
       "      <td>3</td>\n",
       "      <td>Games</td>\n",
       "      <td>Both</td>\n",
       "    </tr>\n",
       "    <tr>\n",
       "      <th>1</th>\n",
       "      <td>d2bde35599e0dae9</td>\n",
       "      <td>41ac2362a2600185</td>\n",
       "      <td>consumable</td>\n",
       "      <td>lactantem prevailing</td>\n",
       "      <td>Z-1</td>\n",
       "      <td>3</td>\n",
       "      <td>Games</td>\n",
       "      <td>Both</td>\n",
       "    </tr>\n",
       "    <tr>\n",
       "      <th>2</th>\n",
       "      <td>d2bde35599e0dae9</td>\n",
       "      <td>64a8e16f030bb611</td>\n",
       "      <td>consumable</td>\n",
       "      <td>lactantem prevailing</td>\n",
       "      <td>Z-1</td>\n",
       "      <td>3</td>\n",
       "      <td>Games</td>\n",
       "      <td>Both</td>\n",
       "    </tr>\n",
       "    <tr>\n",
       "      <th>3</th>\n",
       "      <td>d2bde35599e0dae9</td>\n",
       "      <td>2c8ba424183afa7c</td>\n",
       "      <td>consumable</td>\n",
       "      <td>lactantem prevailing</td>\n",
       "      <td>Z-1</td>\n",
       "      <td>3</td>\n",
       "      <td>Games</td>\n",
       "      <td>Both</td>\n",
       "    </tr>\n",
       "    <tr>\n",
       "      <th>4</th>\n",
       "      <td>d2bde35599e0dae9</td>\n",
       "      <td>b4c42fa5cc420f7b</td>\n",
       "      <td>consumable</td>\n",
       "      <td>lactantem prevailing</td>\n",
       "      <td>Z-1</td>\n",
       "      <td>3</td>\n",
       "      <td>Games</td>\n",
       "      <td>Both</td>\n",
       "    </tr>\n",
       "  </tbody>\n",
       "</table>\n",
       "</div>"
      ],
      "text/plain": [
       "  parent_app_content_id        content_id        type              app_name  \\\n",
       "0      d2bde35599e0dae9  227227a77c59809b  consumable  lactantem prevailing   \n",
       "1      d2bde35599e0dae9  41ac2362a2600185  consumable  lactantem prevailing   \n",
       "2      d2bde35599e0dae9  64a8e16f030bb611  consumable  lactantem prevailing   \n",
       "3      d2bde35599e0dae9  2c8ba424183afa7c  consumable  lactantem prevailing   \n",
       "4      d2bde35599e0dae9  b4c42fa5cc420f7b  consumable  lactantem prevailing   \n",
       "\n",
       "  category_id  device_id category_name device_name  \n",
       "0         Z-1          3         Games        Both  \n",
       "1         Z-1          3         Games        Both  \n",
       "2         Z-1          3         Games        Both  \n",
       "3         Z-1          3         Games        Both  \n",
       "4         Z-1          3         Games        Both  "
      ]
     },
     "execution_count": 20,
     "metadata": {},
     "output_type": "execute_result"
    }
   ],
   "source": [
    "df_in_app_denorm = df_in_app.join(df_app.set_index('content_id'), on='parent_app_content_id')\\\n",
    "                .join(df_category.set_index('category_id'), on='category_id')\\\n",
    "                .join(df_device.set_index('device_id'), on='device_id')\n",
    "df_in_app_denorm.head()"
   ]
  },
  {
   "cell_type": "code",
   "execution_count": 31,
   "id": "b505896a",
   "metadata": {},
   "outputs": [],
   "source": [
    "df_app_denorm = df_app.join(df_category.set_index('category_id'), on='category_id')\\\n",
    "                .join(df_device.set_index('device_id'), on='device_id')\n",
    "df_app_denorm['type'] = 'download_only'"
   ]
  },
  {
   "cell_type": "code",
   "execution_count": 32,
   "id": "e071862b",
   "metadata": {},
   "outputs": [
    {
     "data": {
      "text/html": [
       "<div>\n",
       "<style scoped>\n",
       "    .dataframe tbody tr th:only-of-type {\n",
       "        vertical-align: middle;\n",
       "    }\n",
       "\n",
       "    .dataframe tbody tr th {\n",
       "        vertical-align: top;\n",
       "    }\n",
       "\n",
       "    .dataframe thead th {\n",
       "        text-align: right;\n",
       "    }\n",
       "</style>\n",
       "<table border=\"1\" class=\"dataframe\">\n",
       "  <thead>\n",
       "    <tr style=\"text-align: right;\">\n",
       "      <th></th>\n",
       "      <th>app_name</th>\n",
       "      <th>content_id</th>\n",
       "      <th>category_id</th>\n",
       "      <th>device_id</th>\n",
       "      <th>category_name</th>\n",
       "      <th>device_name</th>\n",
       "      <th>type</th>\n",
       "    </tr>\n",
       "  </thead>\n",
       "  <tbody>\n",
       "    <tr>\n",
       "      <th>0</th>\n",
       "      <td>half-slouched having</td>\n",
       "      <td>22dfac9721b899cb</td>\n",
       "      <td>Y-8</td>\n",
       "      <td>3</td>\n",
       "      <td>Photos &amp; Videos</td>\n",
       "      <td>Both</td>\n",
       "      <td>download_only</td>\n",
       "    </tr>\n",
       "    <tr>\n",
       "      <th>1</th>\n",
       "      <td>lift whale-ships</td>\n",
       "      <td>7c645810cd7f166e</td>\n",
       "      <td>M-7</td>\n",
       "      <td>3</td>\n",
       "      <td>Utilities</td>\n",
       "      <td>Both</td>\n",
       "      <td>download_only</td>\n",
       "    </tr>\n",
       "    <tr>\n",
       "      <th>2</th>\n",
       "      <td>mightily community</td>\n",
       "      <td>c495bcb878faffaa</td>\n",
       "      <td>Y-8</td>\n",
       "      <td>2</td>\n",
       "      <td>Photos &amp; Videos</td>\n",
       "      <td>iPad</td>\n",
       "      <td>download_only</td>\n",
       "    </tr>\n",
       "    <tr>\n",
       "      <th>3</th>\n",
       "      <td>session: too--shall</td>\n",
       "      <td>4e683dcd461cdd22</td>\n",
       "      <td>Y-8</td>\n",
       "      <td>1</td>\n",
       "      <td>Photos &amp; Videos</td>\n",
       "      <td>iPhone</td>\n",
       "      <td>download_only</td>\n",
       "    </tr>\n",
       "    <tr>\n",
       "      <th>4</th>\n",
       "      <td>That Zoology</td>\n",
       "      <td>6473dd29a2badbf1</td>\n",
       "      <td>Y-8</td>\n",
       "      <td>3</td>\n",
       "      <td>Photos &amp; Videos</td>\n",
       "      <td>Both</td>\n",
       "      <td>download_only</td>\n",
       "    </tr>\n",
       "  </tbody>\n",
       "</table>\n",
       "</div>"
      ],
      "text/plain": [
       "               app_name        content_id category_id  device_id  \\\n",
       "0  half-slouched having  22dfac9721b899cb         Y-8          3   \n",
       "1      lift whale-ships  7c645810cd7f166e         M-7          3   \n",
       "2    mightily community  c495bcb878faffaa         Y-8          2   \n",
       "3   session: too--shall  4e683dcd461cdd22         Y-8          1   \n",
       "4          That Zoology  6473dd29a2badbf1         Y-8          3   \n",
       "\n",
       "     category_name device_name           type  \n",
       "0  Photos & Videos        Both  download_only  \n",
       "1        Utilities        Both  download_only  \n",
       "2  Photos & Videos        iPad  download_only  \n",
       "3  Photos & Videos      iPhone  download_only  \n",
       "4  Photos & Videos        Both  download_only  "
      ]
     },
     "execution_count": 32,
     "metadata": {},
     "output_type": "execute_result"
    }
   ],
   "source": [
    "df_app_denorm.head()"
   ]
  },
  {
   "cell_type": "code",
   "execution_count": 27,
   "id": "99d22476",
   "metadata": {},
   "outputs": [
    {
     "data": {
      "text/plain": [
       "0"
      ]
     },
     "execution_count": 27,
     "metadata": {},
     "output_type": "execute_result"
    }
   ],
   "source": [
    "# check if parent_app_content_id has no overlap to content_id\n",
    "content_ids_in_app = df_in_app_denorm['content_id'].unique()\n",
    "content_ids_app = df_app_denorm['content_id'].unique()\n",
    "\n",
    "np.isin(content_ids_in_app, content_ids_app).sum()"
   ]
  },
  {
   "cell_type": "code",
   "execution_count": 28,
   "id": "e960b028",
   "metadata": {},
   "outputs": [
    {
     "data": {
      "text/plain": [
       "(2376,)"
      ]
     },
     "execution_count": 28,
     "metadata": {},
     "output_type": "execute_result"
    }
   ],
   "source": [
    "content_ids_in_app.shape"
   ]
  },
  {
   "cell_type": "code",
   "execution_count": 29,
   "id": "c5cca4f0",
   "metadata": {},
   "outputs": [
    {
     "data": {
      "text/plain": [
       "(1000,)"
      ]
     },
     "execution_count": 29,
     "metadata": {},
     "output_type": "execute_result"
    }
   ],
   "source": [
    "content_ids_app.shape"
   ]
  },
  {
   "cell_type": "markdown",
   "id": "00200868",
   "metadata": {},
   "source": [
    "parent_app_content_id and content_id is unique. I create a unique table for parent content id and union to in_app content_id table"
   ]
  },
  {
   "cell_type": "code",
   "execution_count": 35,
   "id": "e6e92350",
   "metadata": {},
   "outputs": [],
   "source": [
    "cols_app = ['app_name', 'content_id', 'type', 'category_name', 'device_name']\n",
    "df_app_all = pd.concat([df_in_app_denorm[cols_app],\n",
    "                        df_app_denorm[cols_app]])"
   ]
  },
  {
   "cell_type": "code",
   "execution_count": 36,
   "id": "36c560f6",
   "metadata": {},
   "outputs": [
    {
     "data": {
      "text/html": [
       "<div>\n",
       "<style scoped>\n",
       "    .dataframe tbody tr th:only-of-type {\n",
       "        vertical-align: middle;\n",
       "    }\n",
       "\n",
       "    .dataframe tbody tr th {\n",
       "        vertical-align: top;\n",
       "    }\n",
       "\n",
       "    .dataframe thead th {\n",
       "        text-align: right;\n",
       "    }\n",
       "</style>\n",
       "<table border=\"1\" class=\"dataframe\">\n",
       "  <thead>\n",
       "    <tr style=\"text-align: right;\">\n",
       "      <th></th>\n",
       "      <th>app_name</th>\n",
       "      <th>content_id</th>\n",
       "      <th>type</th>\n",
       "      <th>category_name</th>\n",
       "      <th>device_name</th>\n",
       "    </tr>\n",
       "  </thead>\n",
       "  <tbody>\n",
       "    <tr>\n",
       "      <th>0</th>\n",
       "      <td>lactantem prevailing</td>\n",
       "      <td>227227a77c59809b</td>\n",
       "      <td>consumable</td>\n",
       "      <td>Games</td>\n",
       "      <td>Both</td>\n",
       "    </tr>\n",
       "    <tr>\n",
       "      <th>1</th>\n",
       "      <td>lactantem prevailing</td>\n",
       "      <td>41ac2362a2600185</td>\n",
       "      <td>consumable</td>\n",
       "      <td>Games</td>\n",
       "      <td>Both</td>\n",
       "    </tr>\n",
       "    <tr>\n",
       "      <th>2</th>\n",
       "      <td>lactantem prevailing</td>\n",
       "      <td>64a8e16f030bb611</td>\n",
       "      <td>consumable</td>\n",
       "      <td>Games</td>\n",
       "      <td>Both</td>\n",
       "    </tr>\n",
       "    <tr>\n",
       "      <th>3</th>\n",
       "      <td>lactantem prevailing</td>\n",
       "      <td>2c8ba424183afa7c</td>\n",
       "      <td>consumable</td>\n",
       "      <td>Games</td>\n",
       "      <td>Both</td>\n",
       "    </tr>\n",
       "    <tr>\n",
       "      <th>4</th>\n",
       "      <td>lactantem prevailing</td>\n",
       "      <td>b4c42fa5cc420f7b</td>\n",
       "      <td>consumable</td>\n",
       "      <td>Games</td>\n",
       "      <td>Both</td>\n",
       "    </tr>\n",
       "    <tr>\n",
       "      <th>...</th>\n",
       "      <td>...</td>\n",
       "      <td>...</td>\n",
       "      <td>...</td>\n",
       "      <td>...</td>\n",
       "      <td>...</td>\n",
       "    </tr>\n",
       "    <tr>\n",
       "      <th>995</th>\n",
       "      <td>animals nights--do</td>\n",
       "      <td>71cc78b6addcdc63</td>\n",
       "      <td>download_only</td>\n",
       "      <td>Entertainment</td>\n",
       "      <td>Both</td>\n",
       "    </tr>\n",
       "    <tr>\n",
       "      <th>996</th>\n",
       "      <td>meeting-house? respond</td>\n",
       "      <td>42e45e59e6d3dcf1</td>\n",
       "      <td>download_only</td>\n",
       "      <td>Photos &amp; Videos</td>\n",
       "      <td>Both</td>\n",
       "    </tr>\n",
       "    <tr>\n",
       "      <th>997</th>\n",
       "      <td>--SIBBALD'S occupation</td>\n",
       "      <td>d862535438d4314c</td>\n",
       "      <td>download_only</td>\n",
       "      <td>Utilities</td>\n",
       "      <td>Both</td>\n",
       "    </tr>\n",
       "    <tr>\n",
       "      <th>998</th>\n",
       "      <td>cylinders vain!</td>\n",
       "      <td>07d53efa8e531e15</td>\n",
       "      <td>download_only</td>\n",
       "      <td>Photos &amp; Videos</td>\n",
       "      <td>Both</td>\n",
       "    </tr>\n",
       "    <tr>\n",
       "      <th>999</th>\n",
       "      <td>houses --WEBSTER'S</td>\n",
       "      <td>15524d8a9d026bd9</td>\n",
       "      <td>download_only</td>\n",
       "      <td>Games</td>\n",
       "      <td>Both</td>\n",
       "    </tr>\n",
       "  </tbody>\n",
       "</table>\n",
       "<p>3376 rows × 5 columns</p>\n",
       "</div>"
      ],
      "text/plain": [
       "                   app_name        content_id           type    category_name  \\\n",
       "0      lactantem prevailing  227227a77c59809b     consumable            Games   \n",
       "1      lactantem prevailing  41ac2362a2600185     consumable            Games   \n",
       "2      lactantem prevailing  64a8e16f030bb611     consumable            Games   \n",
       "3      lactantem prevailing  2c8ba424183afa7c     consumable            Games   \n",
       "4      lactantem prevailing  b4c42fa5cc420f7b     consumable            Games   \n",
       "..                      ...               ...            ...              ...   \n",
       "995      animals nights--do  71cc78b6addcdc63  download_only    Entertainment   \n",
       "996  meeting-house? respond  42e45e59e6d3dcf1  download_only  Photos & Videos   \n",
       "997  --SIBBALD'S occupation  d862535438d4314c  download_only        Utilities   \n",
       "998         cylinders vain!  07d53efa8e531e15  download_only  Photos & Videos   \n",
       "999      houses --WEBSTER'S  15524d8a9d026bd9  download_only            Games   \n",
       "\n",
       "    device_name  \n",
       "0          Both  \n",
       "1          Both  \n",
       "2          Both  \n",
       "3          Both  \n",
       "4          Both  \n",
       "..          ...  \n",
       "995        Both  \n",
       "996        Both  \n",
       "997        Both  \n",
       "998        Both  \n",
       "999        Both  \n",
       "\n",
       "[3376 rows x 5 columns]"
      ]
     },
     "execution_count": 36,
     "metadata": {},
     "output_type": "execute_result"
    }
   ],
   "source": [
    "df_app_all"
   ]
  },
  {
   "cell_type": "markdown",
   "id": "e40ab262",
   "metadata": {},
   "source": [
    "#### Create df_trn_denorm\n",
    "Starting with transactions table, include information on device and account\n",
    "\n",
    "About 2.7k transactions are missing account information"
   ]
  },
  {
   "cell_type": "code",
   "execution_count": 37,
   "id": "a87f030c",
   "metadata": {},
   "outputs": [],
   "source": [
    "df_trn_denorm = df_transaction.join(df_device.set_index('device_id'), on='device_id')\\\n",
    "                    .join(df_account.set_index('acct_id'), on='acct_id', lsuffix='_transaction', rsuffix='_acct')"
   ]
  },
  {
   "cell_type": "code",
   "execution_count": 38,
   "id": "75c59c4b",
   "metadata": {},
   "outputs": [
    {
     "data": {
      "text/plain": [
       "create_dt_transaction       0\n",
       "content_id                  0\n",
       "acct_id                     0\n",
       "price                       0\n",
       "device_id                   0\n",
       "device_name                 0\n",
       "create_dt_acct           2742\n",
       "payment_type             2742\n",
       "dtype: int64"
      ]
     },
     "execution_count": 38,
     "metadata": {},
     "output_type": "execute_result"
    }
   ],
   "source": [
    "df_trn_denorm.isna().sum()"
   ]
  },
  {
   "cell_type": "markdown",
   "id": "c5a6ceaa",
   "metadata": {},
   "source": [
    "### Create df_wide"
   ]
  },
  {
   "cell_type": "code",
   "execution_count": 39,
   "id": "66042d03",
   "metadata": {},
   "outputs": [],
   "source": [
    "df_wide = df_trn_denorm.join(df_app_all.drop(columns=['device_name'])\\\n",
    "                             .set_index('content_id'), on='content_id')"
   ]
  },
  {
   "cell_type": "code",
   "execution_count": 45,
   "id": "b197743a",
   "metadata": {},
   "outputs": [
    {
     "name": "stdout",
     "output_type": "stream",
     "text": [
      "<class 'pandas.core.frame.DataFrame'>\n",
      "RangeIndex: 3607509 entries, 0 to 3607508\n",
      "Data columns (total 11 columns):\n",
      " #   Column                 Dtype  \n",
      "---  ------                 -----  \n",
      " 0   create_dt_transaction  object \n",
      " 1   content_id             object \n",
      " 2   acct_id                object \n",
      " 3   price                  float64\n",
      " 4   device_id              int64  \n",
      " 5   device_name            object \n",
      " 6   create_dt_acct         object \n",
      " 7   payment_type           object \n",
      " 8   app_name               object \n",
      " 9   type                   object \n",
      " 10  category_name          object \n",
      "dtypes: float64(1), int64(1), object(9)\n",
      "memory usage: 302.8+ MB\n"
     ]
    }
   ],
   "source": [
    "df_wide.info()"
   ]
  },
  {
   "cell_type": "code",
   "execution_count": 41,
   "id": "c304a5f8",
   "metadata": {},
   "outputs": [
    {
     "data": {
      "text/plain": [
       "create_dt_transaction       0\n",
       "content_id                  0\n",
       "acct_id                     0\n",
       "price                       0\n",
       "device_id                   0\n",
       "device_name                 0\n",
       "create_dt_acct           2742\n",
       "payment_type             2742\n",
       "app_name                    0\n",
       "type                        0\n",
       "category_name               0\n",
       "dtype: int64"
      ]
     },
     "execution_count": 41,
     "metadata": {},
     "output_type": "execute_result"
    }
   ],
   "source": [
    "df_wide.isna().sum()"
   ]
  },
  {
   "cell_type": "code",
   "execution_count": 42,
   "id": "24c44d3e",
   "metadata": {},
   "outputs": [
    {
     "data": {
      "text/html": [
       "<div>\n",
       "<style scoped>\n",
       "    .dataframe tbody tr th:only-of-type {\n",
       "        vertical-align: middle;\n",
       "    }\n",
       "\n",
       "    .dataframe tbody tr th {\n",
       "        vertical-align: top;\n",
       "    }\n",
       "\n",
       "    .dataframe thead th {\n",
       "        text-align: right;\n",
       "    }\n",
       "</style>\n",
       "<table border=\"1\" class=\"dataframe\">\n",
       "  <thead>\n",
       "    <tr style=\"text-align: right;\">\n",
       "      <th></th>\n",
       "      <th>price</th>\n",
       "    </tr>\n",
       "    <tr>\n",
       "      <th>payment_type</th>\n",
       "      <th></th>\n",
       "    </tr>\n",
       "  </thead>\n",
       "  <tbody>\n",
       "    <tr>\n",
       "      <th>Free only</th>\n",
       "      <td>0.00</td>\n",
       "    </tr>\n",
       "    <tr>\n",
       "      <th>PMOF</th>\n",
       "      <td>19037307.25</td>\n",
       "    </tr>\n",
       "  </tbody>\n",
       "</table>\n",
       "</div>"
      ],
      "text/plain": [
       "                    price\n",
       "payment_type             \n",
       "Free only            0.00\n",
       "PMOF          19037307.25"
      ]
     },
     "execution_count": 42,
     "metadata": {},
     "output_type": "execute_result"
    }
   ],
   "source": [
    "# confirm that Free only has no price\n",
    "df_wide[['price', 'payment_type']].groupby(by=['payment_type']).sum()"
   ]
  },
  {
   "cell_type": "code",
   "execution_count": 43,
   "id": "c03d679c",
   "metadata": {},
   "outputs": [
    {
     "data": {
      "text/html": [
       "<div>\n",
       "<style scoped>\n",
       "    .dataframe tbody tr th:only-of-type {\n",
       "        vertical-align: middle;\n",
       "    }\n",
       "\n",
       "    .dataframe tbody tr th {\n",
       "        vertical-align: top;\n",
       "    }\n",
       "\n",
       "    .dataframe thead th {\n",
       "        text-align: right;\n",
       "    }\n",
       "</style>\n",
       "<table border=\"1\" class=\"dataframe\">\n",
       "  <thead>\n",
       "    <tr style=\"text-align: right;\">\n",
       "      <th></th>\n",
       "      <th>content_id</th>\n",
       "    </tr>\n",
       "    <tr>\n",
       "      <th>payment_type</th>\n",
       "      <th></th>\n",
       "    </tr>\n",
       "  </thead>\n",
       "  <tbody>\n",
       "    <tr>\n",
       "      <th>Free only</th>\n",
       "      <td>1167271</td>\n",
       "    </tr>\n",
       "    <tr>\n",
       "      <th>PMOF</th>\n",
       "      <td>2437496</td>\n",
       "    </tr>\n",
       "  </tbody>\n",
       "</table>\n",
       "</div>"
      ],
      "text/plain": [
       "              content_id\n",
       "payment_type            \n",
       "Free only        1167271\n",
       "PMOF             2437496"
      ]
     },
     "execution_count": 43,
     "metadata": {},
     "output_type": "execute_result"
    }
   ],
   "source": [
    "df_wide[['content_id', 'payment_type']].groupby(by=['payment_type']).count()"
   ]
  },
  {
   "cell_type": "code",
   "execution_count": 44,
   "id": "57267a82",
   "metadata": {},
   "outputs": [
    {
     "data": {
      "text/html": [
       "<div>\n",
       "<style scoped>\n",
       "    .dataframe tbody tr th:only-of-type {\n",
       "        vertical-align: middle;\n",
       "    }\n",
       "\n",
       "    .dataframe tbody tr th {\n",
       "        vertical-align: top;\n",
       "    }\n",
       "\n",
       "    .dataframe thead th {\n",
       "        text-align: right;\n",
       "    }\n",
       "</style>\n",
       "<table border=\"1\" class=\"dataframe\">\n",
       "  <thead>\n",
       "    <tr style=\"text-align: right;\">\n",
       "      <th></th>\n",
       "      <th></th>\n",
       "      <th>price</th>\n",
       "    </tr>\n",
       "    <tr>\n",
       "      <th>payment_type</th>\n",
       "      <th>type</th>\n",
       "      <th></th>\n",
       "    </tr>\n",
       "  </thead>\n",
       "  <tbody>\n",
       "    <tr>\n",
       "      <th>Free only</th>\n",
       "      <th>download_only</th>\n",
       "      <td>0.00</td>\n",
       "    </tr>\n",
       "    <tr>\n",
       "      <th rowspan=\"3\" valign=\"top\">PMOF</th>\n",
       "      <th>consumable</th>\n",
       "      <td>16797973.69</td>\n",
       "    </tr>\n",
       "    <tr>\n",
       "      <th>download_only</th>\n",
       "      <td>1025178.66</td>\n",
       "    </tr>\n",
       "    <tr>\n",
       "      <th>subscription</th>\n",
       "      <td>1214154.90</td>\n",
       "    </tr>\n",
       "  </tbody>\n",
       "</table>\n",
       "</div>"
      ],
      "text/plain": [
       "                                  price\n",
       "payment_type type                      \n",
       "Free only    download_only         0.00\n",
       "PMOF         consumable     16797973.69\n",
       "             download_only   1025178.66\n",
       "             subscription    1214154.90"
      ]
     },
     "execution_count": 44,
     "metadata": {},
     "output_type": "execute_result"
    }
   ],
   "source": [
    "df_wide[['price', 'payment_type', 'type']].groupby(by=['payment_type', 'type']).sum()"
   ]
  },
  {
   "cell_type": "code",
   "execution_count": 55,
   "id": "beec9f61",
   "metadata": {},
   "outputs": [
    {
     "data": {
      "text/html": [
       "<div>\n",
       "<style scoped>\n",
       "    .dataframe tbody tr th:only-of-type {\n",
       "        vertical-align: middle;\n",
       "    }\n",
       "\n",
       "    .dataframe tbody tr th {\n",
       "        vertical-align: top;\n",
       "    }\n",
       "\n",
       "    .dataframe thead th {\n",
       "        text-align: right;\n",
       "    }\n",
       "</style>\n",
       "<table border=\"1\" class=\"dataframe\">\n",
       "  <thead>\n",
       "    <tr style=\"text-align: right;\">\n",
       "      <th></th>\n",
       "      <th></th>\n",
       "      <th>acct_id</th>\n",
       "    </tr>\n",
       "    <tr>\n",
       "      <th>payment_type</th>\n",
       "      <th>type</th>\n",
       "      <th></th>\n",
       "    </tr>\n",
       "  </thead>\n",
       "  <tbody>\n",
       "    <tr>\n",
       "      <th>Free only</th>\n",
       "      <th>download_only</th>\n",
       "      <td>14993</td>\n",
       "    </tr>\n",
       "    <tr>\n",
       "      <th rowspan=\"3\" valign=\"top\">PMOF</th>\n",
       "      <th>consumable</th>\n",
       "      <td>14982</td>\n",
       "    </tr>\n",
       "    <tr>\n",
       "      <th>download_only</th>\n",
       "      <td>14982</td>\n",
       "    </tr>\n",
       "    <tr>\n",
       "      <th>subscription</th>\n",
       "      <td>14982</td>\n",
       "    </tr>\n",
       "  </tbody>\n",
       "</table>\n",
       "</div>"
      ],
      "text/plain": [
       "                            acct_id\n",
       "payment_type type                  \n",
       "Free only    download_only    14993\n",
       "PMOF         consumable       14982\n",
       "             download_only    14982\n",
       "             subscription     14982"
      ]
     },
     "execution_count": 55,
     "metadata": {},
     "output_type": "execute_result"
    }
   ],
   "source": [
    "df_wide[['acct_id', 'payment_type', 'type']].groupby(by=['payment_type', 'type']).nunique()"
   ]
  },
  {
   "cell_type": "code",
   "execution_count": 56,
   "id": "36b7d3bf",
   "metadata": {},
   "outputs": [
    {
     "data": {
      "text/html": [
       "<div>\n",
       "<style scoped>\n",
       "    .dataframe tbody tr th:only-of-type {\n",
       "        vertical-align: middle;\n",
       "    }\n",
       "\n",
       "    .dataframe tbody tr th {\n",
       "        vertical-align: top;\n",
       "    }\n",
       "\n",
       "    .dataframe thead th {\n",
       "        text-align: right;\n",
       "    }\n",
       "</style>\n",
       "<table border=\"1\" class=\"dataframe\">\n",
       "  <thead>\n",
       "    <tr style=\"text-align: right;\">\n",
       "      <th></th>\n",
       "      <th>acct_id</th>\n",
       "      <th>type</th>\n",
       "    </tr>\n",
       "    <tr>\n",
       "      <th>payment_type</th>\n",
       "      <th></th>\n",
       "      <th></th>\n",
       "    </tr>\n",
       "  </thead>\n",
       "  <tbody>\n",
       "    <tr>\n",
       "      <th>Free only</th>\n",
       "      <td>14993</td>\n",
       "      <td>1</td>\n",
       "    </tr>\n",
       "    <tr>\n",
       "      <th>PMOF</th>\n",
       "      <td>14982</td>\n",
       "      <td>3</td>\n",
       "    </tr>\n",
       "  </tbody>\n",
       "</table>\n",
       "</div>"
      ],
      "text/plain": [
       "              acct_id  type\n",
       "payment_type               \n",
       "Free only       14993     1\n",
       "PMOF            14982     3"
      ]
     },
     "execution_count": 56,
     "metadata": {},
     "output_type": "execute_result"
    }
   ],
   "source": [
    "df_wide[['acct_id', 'payment_type', 'type']].groupby(by=['payment_type']).nunique()"
   ]
  },
  {
   "cell_type": "code",
   "execution_count": 59,
   "id": "083ee6e5",
   "metadata": {},
   "outputs": [
    {
     "data": {
      "text/html": [
       "<div>\n",
       "<style scoped>\n",
       "    .dataframe tbody tr th:only-of-type {\n",
       "        vertical-align: middle;\n",
       "    }\n",
       "\n",
       "    .dataframe tbody tr th {\n",
       "        vertical-align: top;\n",
       "    }\n",
       "\n",
       "    .dataframe thead th {\n",
       "        text-align: right;\n",
       "    }\n",
       "</style>\n",
       "<table border=\"1\" class=\"dataframe\">\n",
       "  <thead>\n",
       "    <tr style=\"text-align: right;\">\n",
       "      <th></th>\n",
       "      <th>acct_id</th>\n",
       "    </tr>\n",
       "    <tr>\n",
       "      <th>payment_type</th>\n",
       "      <th></th>\n",
       "    </tr>\n",
       "  </thead>\n",
       "  <tbody>\n",
       "    <tr>\n",
       "      <th>Free only</th>\n",
       "      <td>50000</td>\n",
       "    </tr>\n",
       "    <tr>\n",
       "      <th>PMOF</th>\n",
       "      <td>50000</td>\n",
       "    </tr>\n",
       "  </tbody>\n",
       "</table>\n",
       "</div>"
      ],
      "text/plain": [
       "              acct_id\n",
       "payment_type         \n",
       "Free only       50000\n",
       "PMOF            50000"
      ]
     },
     "execution_count": 59,
     "metadata": {},
     "output_type": "execute_result"
    }
   ],
   "source": [
    "df_account[['acct_id', 'payment_type']].groupby(by=['payment_type']).nunique()"
   ]
  },
  {
   "cell_type": "markdown",
   "id": "195d9633",
   "metadata": {},
   "source": [
    "### Investigate Subscription Accounts"
   ]
  },
  {
   "cell_type": "code",
   "execution_count": 46,
   "id": "ef7f4de9",
   "metadata": {},
   "outputs": [],
   "source": [
    "acct_sub = df_wide[df_wide['type'] == 'subscription']['acct_id'].unique()"
   ]
  },
  {
   "cell_type": "code",
   "execution_count": 93,
   "id": "ffae8248",
   "metadata": {},
   "outputs": [],
   "source": [
    "# label subscribers\n",
    "df_wide['is_subscriber'] = np.where(df_wide['acct_id'].isin(acct_sub), \"subscriber\", \"non-subscriber\")"
   ]
  },
  {
   "cell_type": "code",
   "execution_count": 95,
   "id": "c7d256a9",
   "metadata": {},
   "outputs": [
    {
     "data": {
      "text/html": [
       "<div>\n",
       "<style scoped>\n",
       "    .dataframe tbody tr th:only-of-type {\n",
       "        vertical-align: middle;\n",
       "    }\n",
       "\n",
       "    .dataframe tbody tr th {\n",
       "        vertical-align: top;\n",
       "    }\n",
       "\n",
       "    .dataframe thead th {\n",
       "        text-align: right;\n",
       "    }\n",
       "</style>\n",
       "<table border=\"1\" class=\"dataframe\">\n",
       "  <thead>\n",
       "    <tr style=\"text-align: right;\">\n",
       "      <th></th>\n",
       "      <th>is_subscriber</th>\n",
       "      <th>create_dt_transaction</th>\n",
       "      <th>content_id</th>\n",
       "      <th>acct_id</th>\n",
       "      <th>price</th>\n",
       "      <th>device_id</th>\n",
       "      <th>device_name</th>\n",
       "      <th>create_dt_acct</th>\n",
       "      <th>payment_type</th>\n",
       "      <th>app_name</th>\n",
       "      <th>type</th>\n",
       "      <th>category_name</th>\n",
       "      <th>payment_type2</th>\n",
       "    </tr>\n",
       "  </thead>\n",
       "  <tbody>\n",
       "    <tr>\n",
       "      <th>0</th>\n",
       "      <td>non-subscriber</td>\n",
       "      <td>1168381</td>\n",
       "      <td>1168381</td>\n",
       "      <td>1168381</td>\n",
       "      <td>1168381</td>\n",
       "      <td>1168381</td>\n",
       "      <td>1168381</td>\n",
       "      <td>1167271</td>\n",
       "      <td>1167271</td>\n",
       "      <td>1168381</td>\n",
       "      <td>1168381</td>\n",
       "      <td>1168381</td>\n",
       "      <td>1167271</td>\n",
       "    </tr>\n",
       "    <tr>\n",
       "      <th>1</th>\n",
       "      <td>subscriber</td>\n",
       "      <td>2439128</td>\n",
       "      <td>2439128</td>\n",
       "      <td>2439128</td>\n",
       "      <td>2439128</td>\n",
       "      <td>2439128</td>\n",
       "      <td>2439128</td>\n",
       "      <td>2437496</td>\n",
       "      <td>2437496</td>\n",
       "      <td>2439128</td>\n",
       "      <td>2439128</td>\n",
       "      <td>2439128</td>\n",
       "      <td>2437496</td>\n",
       "    </tr>\n",
       "  </tbody>\n",
       "</table>\n",
       "</div>"
      ],
      "text/plain": [
       "    is_subscriber  create_dt_transaction  content_id  acct_id    price  \\\n",
       "0  non-subscriber                1168381     1168381  1168381  1168381   \n",
       "1      subscriber                2439128     2439128  2439128  2439128   \n",
       "\n",
       "   device_id  device_name  create_dt_acct  payment_type  app_name     type  \\\n",
       "0    1168381      1168381         1167271       1167271   1168381  1168381   \n",
       "1    2439128      2439128         2437496       2437496   2439128  2439128   \n",
       "\n",
       "   category_name  payment_type2  \n",
       "0        1168381        1167271  \n",
       "1        2439128        2437496  "
      ]
     },
     "execution_count": 95,
     "metadata": {},
     "output_type": "execute_result"
    }
   ],
   "source": [
    "df_wide.groupby(by=['is_subscriber'], as_index=False).count()"
   ]
  },
  {
   "cell_type": "code",
   "execution_count": 47,
   "id": "6633eb4e",
   "metadata": {},
   "outputs": [
    {
     "data": {
      "text/plain": [
       "2439128"
      ]
     },
     "execution_count": 47,
     "metadata": {},
     "output_type": "execute_result"
    }
   ],
   "source": [
    "df_wide[df_wide['acct_id'].isin(acct_sub)]['price'].count()"
   ]
  },
  {
   "cell_type": "code",
   "execution_count": 48,
   "id": "260c1b6b",
   "metadata": {},
   "outputs": [
    {
     "data": {
      "text/plain": [
       "19049491.849999975"
      ]
     },
     "execution_count": 48,
     "metadata": {},
     "output_type": "execute_result"
    }
   ],
   "source": [
    "df_wide[df_wide['acct_id'].isin(acct_sub)]['price'].sum()"
   ]
  },
  {
   "cell_type": "code",
   "execution_count": 49,
   "id": "c69293f7",
   "metadata": {},
   "outputs": [
    {
     "data": {
      "text/plain": [
       "7.809959891403803"
      ]
     },
     "execution_count": 49,
     "metadata": {},
     "output_type": "execute_result"
    }
   ],
   "source": [
    "df_wide[df_wide['acct_id'].isin(acct_sub)]['price'].sum()/df_wide[df_wide['acct_id'].isin(acct_sub)]['price'].count()"
   ]
  },
  {
   "cell_type": "code",
   "execution_count": 50,
   "id": "b62261ed",
   "metadata": {},
   "outputs": [
    {
     "data": {
      "text/plain": [
       "1168381"
      ]
     },
     "execution_count": 50,
     "metadata": {},
     "output_type": "execute_result"
    }
   ],
   "source": [
    "df_wide[~df_wide['acct_id'].isin(acct_sub)]['price'].count()"
   ]
  },
  {
   "cell_type": "code",
   "execution_count": 51,
   "id": "bae79feb",
   "metadata": {},
   "outputs": [
    {
     "data": {
      "text/plain": [
       "0.0"
      ]
     },
     "execution_count": 51,
     "metadata": {},
     "output_type": "execute_result"
    }
   ],
   "source": [
    "df_wide[~df_wide['acct_id'].isin(acct_sub)]['price'].sum()"
   ]
  },
  {
   "cell_type": "code",
   "execution_count": 60,
   "id": "a1c7b787",
   "metadata": {},
   "outputs": [],
   "source": [
    "df_wide['payment_type2'] = df_wide['payment_type'] + ':' + df_wide['type']"
   ]
  },
  {
   "cell_type": "code",
   "execution_count": 54,
   "id": "767c85cc",
   "metadata": {},
   "outputs": [
    {
     "data": {
      "text/html": [
       "<div>\n",
       "<style scoped>\n",
       "    .dataframe tbody tr th:only-of-type {\n",
       "        vertical-align: middle;\n",
       "    }\n",
       "\n",
       "    .dataframe tbody tr th {\n",
       "        vertical-align: top;\n",
       "    }\n",
       "\n",
       "    .dataframe thead th {\n",
       "        text-align: right;\n",
       "    }\n",
       "</style>\n",
       "<table border=\"1\" class=\"dataframe\">\n",
       "  <thead>\n",
       "    <tr style=\"text-align: right;\">\n",
       "      <th></th>\n",
       "      <th>create_dt_transaction</th>\n",
       "      <th>content_id</th>\n",
       "      <th>acct_id</th>\n",
       "      <th>price</th>\n",
       "      <th>device_id</th>\n",
       "      <th>device_name</th>\n",
       "      <th>create_dt_acct</th>\n",
       "      <th>payment_type</th>\n",
       "      <th>app_name</th>\n",
       "      <th>type</th>\n",
       "      <th>category_name</th>\n",
       "    </tr>\n",
       "  </thead>\n",
       "  <tbody>\n",
       "    <tr>\n",
       "      <th>1460343</th>\n",
       "      <td>2016-09-03</td>\n",
       "      <td>51a852271344eefa</td>\n",
       "      <td>c93b5b4c590507c8</td>\n",
       "      <td>1.99</td>\n",
       "      <td>1</td>\n",
       "      <td>iPhone</td>\n",
       "      <td>10/9/07</td>\n",
       "      <td>PMOF</td>\n",
       "      <td>shrouds final</td>\n",
       "      <td>download_only</td>\n",
       "      <td>Entertainment</td>\n",
       "    </tr>\n",
       "    <tr>\n",
       "      <th>1460344</th>\n",
       "      <td>2016-08-14</td>\n",
       "      <td>11862d2d869936b2</td>\n",
       "      <td>37e26b546532db8e</td>\n",
       "      <td>7.99</td>\n",
       "      <td>1</td>\n",
       "      <td>iPhone</td>\n",
       "      <td>7/13/09</td>\n",
       "      <td>PMOF</td>\n",
       "      <td>medicament extremely</td>\n",
       "      <td>download_only</td>\n",
       "      <td>Utilities</td>\n",
       "    </tr>\n",
       "    <tr>\n",
       "      <th>1460345</th>\n",
       "      <td>2016-09-19</td>\n",
       "      <td>88690a5adabae694</td>\n",
       "      <td>b90e7de03c7dd694</td>\n",
       "      <td>0.99</td>\n",
       "      <td>1</td>\n",
       "      <td>iPhone</td>\n",
       "      <td>4/25/08</td>\n",
       "      <td>PMOF</td>\n",
       "      <td>fill port</td>\n",
       "      <td>download_only</td>\n",
       "      <td>Entertainment</td>\n",
       "    </tr>\n",
       "    <tr>\n",
       "      <th>1460346</th>\n",
       "      <td>2016-07-14</td>\n",
       "      <td>73d7bdb1778509e7</td>\n",
       "      <td>6db05fc4badfaa6d</td>\n",
       "      <td>5.99</td>\n",
       "      <td>1</td>\n",
       "      <td>iPhone</td>\n",
       "      <td>12/23/07</td>\n",
       "      <td>PMOF</td>\n",
       "      <td>parade deliverance</td>\n",
       "      <td>download_only</td>\n",
       "      <td>Utilities</td>\n",
       "    </tr>\n",
       "    <tr>\n",
       "      <th>1460347</th>\n",
       "      <td>2016-06-18</td>\n",
       "      <td>372e42bbaa3dc0e4</td>\n",
       "      <td>d3ec6ed049661453</td>\n",
       "      <td>0.99</td>\n",
       "      <td>1</td>\n",
       "      <td>iPhone</td>\n",
       "      <td>1/2/08</td>\n",
       "      <td>PMOF</td>\n",
       "      <td>lungs THEOLOGY</td>\n",
       "      <td>download_only</td>\n",
       "      <td>Games</td>\n",
       "    </tr>\n",
       "    <tr>\n",
       "      <th>...</th>\n",
       "      <td>...</td>\n",
       "      <td>...</td>\n",
       "      <td>...</td>\n",
       "      <td>...</td>\n",
       "      <td>...</td>\n",
       "      <td>...</td>\n",
       "      <td>...</td>\n",
       "      <td>...</td>\n",
       "      <td>...</td>\n",
       "      <td>...</td>\n",
       "      <td>...</td>\n",
       "    </tr>\n",
       "    <tr>\n",
       "      <th>3054702</th>\n",
       "      <td>2016-09-21</td>\n",
       "      <td>0ceab364ddb9372d</td>\n",
       "      <td>a269f5917d3da8e7</td>\n",
       "      <td>0.00</td>\n",
       "      <td>1</td>\n",
       "      <td>iPhone</td>\n",
       "      <td>7/12/10</td>\n",
       "      <td>PMOF</td>\n",
       "      <td>profoundest who</td>\n",
       "      <td>download_only</td>\n",
       "      <td>Games</td>\n",
       "    </tr>\n",
       "    <tr>\n",
       "      <th>3054703</th>\n",
       "      <td>2016-09-21</td>\n",
       "      <td>0ceab364ddb9372d</td>\n",
       "      <td>32c5446c52bbfd21</td>\n",
       "      <td>0.00</td>\n",
       "      <td>1</td>\n",
       "      <td>iPhone</td>\n",
       "      <td>9/5/10</td>\n",
       "      <td>PMOF</td>\n",
       "      <td>profoundest who</td>\n",
       "      <td>download_only</td>\n",
       "      <td>Games</td>\n",
       "    </tr>\n",
       "    <tr>\n",
       "      <th>3054704</th>\n",
       "      <td>2016-09-21</td>\n",
       "      <td>0ceab364ddb9372d</td>\n",
       "      <td>8834fcbfe20e1dfe</td>\n",
       "      <td>0.00</td>\n",
       "      <td>1</td>\n",
       "      <td>iPhone</td>\n",
       "      <td>1/1/12</td>\n",
       "      <td>PMOF</td>\n",
       "      <td>profoundest who</td>\n",
       "      <td>download_only</td>\n",
       "      <td>Games</td>\n",
       "    </tr>\n",
       "    <tr>\n",
       "      <th>3054705</th>\n",
       "      <td>2016-09-21</td>\n",
       "      <td>0ceab364ddb9372d</td>\n",
       "      <td>929a102def7c93a4</td>\n",
       "      <td>0.00</td>\n",
       "      <td>1</td>\n",
       "      <td>iPhone</td>\n",
       "      <td>9/24/09</td>\n",
       "      <td>PMOF</td>\n",
       "      <td>profoundest who</td>\n",
       "      <td>download_only</td>\n",
       "      <td>Games</td>\n",
       "    </tr>\n",
       "    <tr>\n",
       "      <th>3054706</th>\n",
       "      <td>2016-09-21</td>\n",
       "      <td>0ceab364ddb9372d</td>\n",
       "      <td>fadf26793ea1cf99</td>\n",
       "      <td>0.00</td>\n",
       "      <td>1</td>\n",
       "      <td>iPhone</td>\n",
       "      <td>8/27/09</td>\n",
       "      <td>PMOF</td>\n",
       "      <td>profoundest who</td>\n",
       "      <td>download_only</td>\n",
       "      <td>Games</td>\n",
       "    </tr>\n",
       "  </tbody>\n",
       "</table>\n",
       "<p>425983 rows × 11 columns</p>\n",
       "</div>"
      ],
      "text/plain": [
       "        create_dt_transaction        content_id           acct_id  price  \\\n",
       "1460343            2016-09-03  51a852271344eefa  c93b5b4c590507c8   1.99   \n",
       "1460344            2016-08-14  11862d2d869936b2  37e26b546532db8e   7.99   \n",
       "1460345            2016-09-19  88690a5adabae694  b90e7de03c7dd694   0.99   \n",
       "1460346            2016-07-14  73d7bdb1778509e7  6db05fc4badfaa6d   5.99   \n",
       "1460347            2016-06-18  372e42bbaa3dc0e4  d3ec6ed049661453   0.99   \n",
       "...                       ...               ...               ...    ...   \n",
       "3054702            2016-09-21  0ceab364ddb9372d  a269f5917d3da8e7   0.00   \n",
       "3054703            2016-09-21  0ceab364ddb9372d  32c5446c52bbfd21   0.00   \n",
       "3054704            2016-09-21  0ceab364ddb9372d  8834fcbfe20e1dfe   0.00   \n",
       "3054705            2016-09-21  0ceab364ddb9372d  929a102def7c93a4   0.00   \n",
       "3054706            2016-09-21  0ceab364ddb9372d  fadf26793ea1cf99   0.00   \n",
       "\n",
       "         device_id device_name create_dt_acct payment_type  \\\n",
       "1460343          1      iPhone        10/9/07         PMOF   \n",
       "1460344          1      iPhone        7/13/09         PMOF   \n",
       "1460345          1      iPhone        4/25/08         PMOF   \n",
       "1460346          1      iPhone       12/23/07         PMOF   \n",
       "1460347          1      iPhone         1/2/08         PMOF   \n",
       "...            ...         ...            ...          ...   \n",
       "3054702          1      iPhone        7/12/10         PMOF   \n",
       "3054703          1      iPhone         9/5/10         PMOF   \n",
       "3054704          1      iPhone         1/1/12         PMOF   \n",
       "3054705          1      iPhone        9/24/09         PMOF   \n",
       "3054706          1      iPhone        8/27/09         PMOF   \n",
       "\n",
       "                     app_name           type  category_name  \n",
       "1460343         shrouds final  download_only  Entertainment  \n",
       "1460344  medicament extremely  download_only      Utilities  \n",
       "1460345             fill port  download_only  Entertainment  \n",
       "1460346    parade deliverance  download_only      Utilities  \n",
       "1460347        lungs THEOLOGY  download_only          Games  \n",
       "...                       ...            ...            ...  \n",
       "3054702       profoundest who  download_only          Games  \n",
       "3054703       profoundest who  download_only          Games  \n",
       "3054704       profoundest who  download_only          Games  \n",
       "3054705       profoundest who  download_only          Games  \n",
       "3054706       profoundest who  download_only          Games  \n",
       "\n",
       "[425983 rows x 11 columns]"
      ]
     },
     "execution_count": 54,
     "metadata": {},
     "output_type": "execute_result"
    }
   ],
   "source": [
    "df_wide[(df_wide['acct_id'].isin(acct_sub)) &\n",
    "       (df_wide['type'] == 'download_only')]"
   ]
  },
  {
   "cell_type": "code",
   "execution_count": 88,
   "id": "7d6ef1d5",
   "metadata": {},
   "outputs": [],
   "source": [
    "df_wide2 = df_wide[['create_dt_transaction', 'payment_type2', 'price']]\\\n",
    ".groupby(by=['create_dt_transaction', 'payment_type2'], as_index=False).count()"
   ]
  },
  {
   "cell_type": "code",
   "execution_count": 89,
   "id": "c445a5b6",
   "metadata": {},
   "outputs": [
    {
     "data": {
      "image/png": "[encoded data removed]",
      "text/plain": [
       "<Figure size 1080x576 with 1 Axes>"
      ]
     },
     "metadata": {
      "needs_background": "light"
     },
     "output_type": "display_data"
    }
   ],
   "source": [
    "plt.figure(figsize=(15,8))\n",
    "plt.xticks(rotation = 45)\n",
    "ax = sns.lineplot(x='create_dt_transaction', y='price', hue='payment_type2', \n",
    "             data=df_wide2)\n",
    "\n",
    "ax.xaxis.set_major_locator(mdates.DayLocator(interval=6))\n",
    "# ax.xaxis.set_major_formatter(mdates.DateFormatter('%Y-%m-%d'))\n",
    "# plt.gcf().autofmt_xdate()"
   ]
  },
  {
   "cell_type": "code",
   "execution_count": 92,
   "id": "1a0b44ac",
   "metadata": {},
   "outputs": [
    {
     "data": {
      "image/png": "[encoded data removed]",
      "text/plain": [
       "<Figure size 1080x576 with 1 Axes>"
      ]
     },
     "metadata": {
      "needs_background": "light"
     },
     "output_type": "display_data"
    }
   ],
   "source": [
    "plt.figure(figsize=(15,8))\n",
    "plt.xticks(rotation = 45)\n",
    "ax = sns.lineplot(x='create_dt_transaction', y='price', \n",
    "             data=df_wide2[(df_wide2['payment_type2'] == 'Free only:download_only')])\n",
    "\n",
    "ax.xaxis.set_major_locator(mdates.DayLocator(interval=6))"
   ]
  },
  {
   "cell_type": "code",
   "execution_count": 85,
   "id": "6929f8a9",
   "metadata": {},
   "outputs": [
    {
     "name": "stdout",
     "output_type": "stream",
     "text": [
      "<class 'pandas.core.frame.DataFrame'>\n",
      "MultiIndex: 440 entries, ('2016-06-01', 'Free only:download_only') to ('2016-09-21', 'PMOF:subscription')\n",
      "Data columns (total 1 columns):\n",
      " #   Column  Non-Null Count  Dtype\n",
      "---  ------  --------------  -----\n",
      " 0   price   440 non-null    int64\n",
      "dtypes: int64(1)\n",
      "memory usage: 9.6+ KB\n"
     ]
    }
   ],
   "source": [
    "df_wide2.info()"
   ]
  },
  {
   "cell_type": "code",
   "execution_count": 87,
   "id": "93f37900",
   "metadata": {},
   "outputs": [
    {
     "data": {
      "text/html": [
       "<div>\n",
       "<style scoped>\n",
       "    .dataframe tbody tr th:only-of-type {\n",
       "        vertical-align: middle;\n",
       "    }\n",
       "\n",
       "    .dataframe tbody tr th {\n",
       "        vertical-align: top;\n",
       "    }\n",
       "\n",
       "    .dataframe thead th {\n",
       "        text-align: right;\n",
       "    }\n",
       "</style>\n",
       "<table border=\"1\" class=\"dataframe\">\n",
       "  <thead>\n",
       "    <tr style=\"text-align: right;\">\n",
       "      <th></th>\n",
       "      <th></th>\n",
       "      <th>price</th>\n",
       "    </tr>\n",
       "    <tr>\n",
       "      <th>create_dt_transaction</th>\n",
       "      <th>payment_type2</th>\n",
       "      <th></th>\n",
       "    </tr>\n",
       "  </thead>\n",
       "  <tbody>\n",
       "    <tr>\n",
       "      <th rowspan=\"4\" valign=\"top\">2016-06-01</th>\n",
       "      <th>Free only:download_only</th>\n",
       "      <td>10656</td>\n",
       "    </tr>\n",
       "    <tr>\n",
       "      <th>PMOF:consumable</th>\n",
       "      <td>16191</td>\n",
       "    </tr>\n",
       "    <tr>\n",
       "      <th>PMOF:download_only</th>\n",
       "      <td>2736</td>\n",
       "    </tr>\n",
       "    <tr>\n",
       "      <th>PMOF:subscription</th>\n",
       "      <td>1601</td>\n",
       "    </tr>\n",
       "    <tr>\n",
       "      <th>2016-06-02</th>\n",
       "      <th>Free only:download_only</th>\n",
       "      <td>10605</td>\n",
       "    </tr>\n",
       "    <tr>\n",
       "      <th>...</th>\n",
       "      <th>...</th>\n",
       "      <td>...</td>\n",
       "    </tr>\n",
       "    <tr>\n",
       "      <th>2016-09-20</th>\n",
       "      <th>PMOF:subscription</th>\n",
       "      <td>1689</td>\n",
       "    </tr>\n",
       "    <tr>\n",
       "      <th rowspan=\"4\" valign=\"top\">2016-09-21</th>\n",
       "      <th>Free only:download_only</th>\n",
       "      <td>10672</td>\n",
       "    </tr>\n",
       "    <tr>\n",
       "      <th>PMOF:consumable</th>\n",
       "      <td>16226</td>\n",
       "    </tr>\n",
       "    <tr>\n",
       "      <th>PMOF:download_only</th>\n",
       "      <td>5014</td>\n",
       "    </tr>\n",
       "    <tr>\n",
       "      <th>PMOF:subscription</th>\n",
       "      <td>1661</td>\n",
       "    </tr>\n",
       "  </tbody>\n",
       "</table>\n",
       "<p>440 rows × 1 columns</p>\n",
       "</div>"
      ],
      "text/plain": [
       "                                               price\n",
       "create_dt_transaction payment_type2                 \n",
       "2016-06-01            Free only:download_only  10656\n",
       "                      PMOF:consumable          16191\n",
       "                      PMOF:download_only        2736\n",
       "                      PMOF:subscription         1601\n",
       "2016-06-02            Free only:download_only  10605\n",
       "...                                              ...\n",
       "2016-09-20            PMOF:subscription         1689\n",
       "2016-09-21            Free only:download_only  10672\n",
       "                      PMOF:consumable          16226\n",
       "                      PMOF:download_only        5014\n",
       "                      PMOF:subscription         1661\n",
       "\n",
       "[440 rows x 1 columns]"
      ]
     },
     "execution_count": 87,
     "metadata": {},
     "output_type": "execute_result"
    }
   ],
   "source": [
    "df_wide2 = df_wide[['create_dt_transaction', 'payment_type2', 'price']]\\\n",
    ".groupby(by=['create_dt_transaction', 'payment_type2']).count()\n",
    "df_wide2"
   ]
  },
  {
   "cell_type": "markdown",
   "id": "713fe007",
   "metadata": {},
   "source": [
    "### Look at difference in app category between subscribers and non-subscribers"
   ]
  },
  {
   "cell_type": "code",
   "execution_count": 96,
   "id": "23f9628c",
   "metadata": {},
   "outputs": [
    {
     "data": {
      "text/html": [
       "<div>\n",
       "<style scoped>\n",
       "    .dataframe tbody tr th:only-of-type {\n",
       "        vertical-align: middle;\n",
       "    }\n",
       "\n",
       "    .dataframe tbody tr th {\n",
       "        vertical-align: top;\n",
       "    }\n",
       "\n",
       "    .dataframe thead th {\n",
       "        text-align: right;\n",
       "    }\n",
       "</style>\n",
       "<table border=\"1\" class=\"dataframe\">\n",
       "  <thead>\n",
       "    <tr style=\"text-align: right;\">\n",
       "      <th></th>\n",
       "      <th>create_dt_transaction</th>\n",
       "      <th>content_id</th>\n",
       "      <th>acct_id</th>\n",
       "      <th>price</th>\n",
       "      <th>device_id</th>\n",
       "      <th>device_name</th>\n",
       "      <th>create_dt_acct</th>\n",
       "      <th>payment_type</th>\n",
       "      <th>app_name</th>\n",
       "      <th>type</th>\n",
       "      <th>category_name</th>\n",
       "      <th>payment_type2</th>\n",
       "      <th>is_subscriber</th>\n",
       "    </tr>\n",
       "  </thead>\n",
       "  <tbody>\n",
       "    <tr>\n",
       "      <th>0</th>\n",
       "      <td>2016-08-28</td>\n",
       "      <td>b6cf4f33e7455df4</td>\n",
       "      <td>220574a7a6a71afa</td>\n",
       "      <td>11.99</td>\n",
       "      <td>1</td>\n",
       "      <td>iPhone</td>\n",
       "      <td>8/29/09</td>\n",
       "      <td>PMOF</td>\n",
       "      <td>events Bildad's</td>\n",
       "      <td>subscription</td>\n",
       "      <td>Utilities</td>\n",
       "      <td>PMOF:subscription</td>\n",
       "      <td>subscriber</td>\n",
       "    </tr>\n",
       "    <tr>\n",
       "      <th>1</th>\n",
       "      <td>2016-09-16</td>\n",
       "      <td>71ac3e9c38ddbbba</td>\n",
       "      <td>8551f69a5015ea6a</td>\n",
       "      <td>1.99</td>\n",
       "      <td>2</td>\n",
       "      <td>iPad</td>\n",
       "      <td>5/28/11</td>\n",
       "      <td>PMOF</td>\n",
       "      <td>swell questionably</td>\n",
       "      <td>consumable</td>\n",
       "      <td>Utilities</td>\n",
       "      <td>PMOF:consumable</td>\n",
       "      <td>subscriber</td>\n",
       "    </tr>\n",
       "    <tr>\n",
       "      <th>2</th>\n",
       "      <td>2016-08-15</td>\n",
       "      <td>776b851b916c33d1</td>\n",
       "      <td>7dedf309494a1966</td>\n",
       "      <td>0.99</td>\n",
       "      <td>2</td>\n",
       "      <td>iPad</td>\n",
       "      <td>11/15/09</td>\n",
       "      <td>PMOF</td>\n",
       "      <td>supperless--my Shipmates</td>\n",
       "      <td>consumable</td>\n",
       "      <td>Games</td>\n",
       "      <td>PMOF:consumable</td>\n",
       "      <td>subscriber</td>\n",
       "    </tr>\n",
       "    <tr>\n",
       "      <th>3</th>\n",
       "      <td>2016-06-17</td>\n",
       "      <td>7a47ca132a8dc695</td>\n",
       "      <td>7174a81c796dcf7e</td>\n",
       "      <td>1.99</td>\n",
       "      <td>2</td>\n",
       "      <td>iPad</td>\n",
       "      <td>3/1/09</td>\n",
       "      <td>PMOF</td>\n",
       "      <td>unwritten hungry</td>\n",
       "      <td>consumable</td>\n",
       "      <td>Games</td>\n",
       "      <td>PMOF:consumable</td>\n",
       "      <td>subscriber</td>\n",
       "    </tr>\n",
       "    <tr>\n",
       "      <th>4</th>\n",
       "      <td>2016-06-13</td>\n",
       "      <td>30581219bc952dbb</td>\n",
       "      <td>35aaf59d64a677e7</td>\n",
       "      <td>11.99</td>\n",
       "      <td>2</td>\n",
       "      <td>iPad</td>\n",
       "      <td>10/1/10</td>\n",
       "      <td>PMOF</td>\n",
       "      <td>Turning thanked</td>\n",
       "      <td>consumable</td>\n",
       "      <td>Entertainment</td>\n",
       "      <td>PMOF:consumable</td>\n",
       "      <td>subscriber</td>\n",
       "    </tr>\n",
       "  </tbody>\n",
       "</table>\n",
       "</div>"
      ],
      "text/plain": [
       "  create_dt_transaction        content_id           acct_id  price  device_id  \\\n",
       "0            2016-08-28  b6cf4f33e7455df4  220574a7a6a71afa  11.99          1   \n",
       "1            2016-09-16  71ac3e9c38ddbbba  8551f69a5015ea6a   1.99          2   \n",
       "2            2016-08-15  776b851b916c33d1  7dedf309494a1966   0.99          2   \n",
       "3            2016-06-17  7a47ca132a8dc695  7174a81c796dcf7e   1.99          2   \n",
       "4            2016-06-13  30581219bc952dbb  35aaf59d64a677e7  11.99          2   \n",
       "\n",
       "  device_name create_dt_acct payment_type                  app_name  \\\n",
       "0      iPhone        8/29/09         PMOF           events Bildad's   \n",
       "1        iPad        5/28/11         PMOF        swell questionably   \n",
       "2        iPad       11/15/09         PMOF  supperless--my Shipmates   \n",
       "3        iPad         3/1/09         PMOF          unwritten hungry   \n",
       "4        iPad        10/1/10         PMOF           Turning thanked   \n",
       "\n",
       "           type  category_name      payment_type2 is_subscriber  \n",
       "0  subscription      Utilities  PMOF:subscription    subscriber  \n",
       "1    consumable      Utilities    PMOF:consumable    subscriber  \n",
       "2    consumable          Games    PMOF:consumable    subscriber  \n",
       "3    consumable          Games    PMOF:consumable    subscriber  \n",
       "4    consumable  Entertainment    PMOF:consumable    subscriber  "
      ]
     },
     "execution_count": 96,
     "metadata": {},
     "output_type": "execute_result"
    }
   ],
   "source": [
    "df_wide.head()"
   ]
  },
  {
   "cell_type": "code",
   "execution_count": 98,
   "id": "49895013",
   "metadata": {},
   "outputs": [
    {
     "data": {
      "text/html": [
       "<div>\n",
       "<style scoped>\n",
       "    .dataframe tbody tr th:only-of-type {\n",
       "        vertical-align: middle;\n",
       "    }\n",
       "\n",
       "    .dataframe tbody tr th {\n",
       "        vertical-align: top;\n",
       "    }\n",
       "\n",
       "    .dataframe thead th {\n",
       "        text-align: right;\n",
       "    }\n",
       "</style>\n",
       "<table border=\"1\" class=\"dataframe\">\n",
       "  <thead>\n",
       "    <tr style=\"text-align: right;\">\n",
       "      <th></th>\n",
       "      <th>is_subscriber</th>\n",
       "      <th>category_name</th>\n",
       "      <th>content_id</th>\n",
       "    </tr>\n",
       "  </thead>\n",
       "  <tbody>\n",
       "    <tr>\n",
       "      <th>0</th>\n",
       "      <td>non-subscriber</td>\n",
       "      <td>Entertainment</td>\n",
       "      <td>203699</td>\n",
       "    </tr>\n",
       "    <tr>\n",
       "      <th>1</th>\n",
       "      <td>non-subscriber</td>\n",
       "      <td>Games</td>\n",
       "      <td>406757</td>\n",
       "    </tr>\n",
       "    <tr>\n",
       "      <th>2</th>\n",
       "      <td>non-subscriber</td>\n",
       "      <td>Photos &amp; Videos</td>\n",
       "      <td>276114</td>\n",
       "    </tr>\n",
       "    <tr>\n",
       "      <th>3</th>\n",
       "      <td>non-subscriber</td>\n",
       "      <td>Social Networking</td>\n",
       "      <td>51746</td>\n",
       "    </tr>\n",
       "    <tr>\n",
       "      <th>4</th>\n",
       "      <td>non-subscriber</td>\n",
       "      <td>Utilities</td>\n",
       "      <td>230065</td>\n",
       "    </tr>\n",
       "    <tr>\n",
       "      <th>5</th>\n",
       "      <td>subscriber</td>\n",
       "      <td>Entertainment</td>\n",
       "      <td>224569</td>\n",
       "    </tr>\n",
       "    <tr>\n",
       "      <th>6</th>\n",
       "      <td>subscriber</td>\n",
       "      <td>Games</td>\n",
       "      <td>1292941</td>\n",
       "    </tr>\n",
       "    <tr>\n",
       "      <th>7</th>\n",
       "      <td>subscriber</td>\n",
       "      <td>Photos &amp; Videos</td>\n",
       "      <td>572003</td>\n",
       "    </tr>\n",
       "    <tr>\n",
       "      <th>8</th>\n",
       "      <td>subscriber</td>\n",
       "      <td>Social Networking</td>\n",
       "      <td>108798</td>\n",
       "    </tr>\n",
       "    <tr>\n",
       "      <th>9</th>\n",
       "      <td>subscriber</td>\n",
       "      <td>Utilities</td>\n",
       "      <td>240817</td>\n",
       "    </tr>\n",
       "  </tbody>\n",
       "</table>\n",
       "</div>"
      ],
      "text/plain": [
       "    is_subscriber      category_name  content_id\n",
       "0  non-subscriber      Entertainment      203699\n",
       "1  non-subscriber              Games      406757\n",
       "2  non-subscriber    Photos & Videos      276114\n",
       "3  non-subscriber  Social Networking       51746\n",
       "4  non-subscriber          Utilities      230065\n",
       "5      subscriber      Entertainment      224569\n",
       "6      subscriber              Games     1292941\n",
       "7      subscriber    Photos & Videos      572003\n",
       "8      subscriber  Social Networking      108798\n",
       "9      subscriber          Utilities      240817"
      ]
     },
     "execution_count": 98,
     "metadata": {},
     "output_type": "execute_result"
    }
   ],
   "source": [
    "df_wide[['content_id','category_name', 'is_subscriber']]\\\n",
    ".groupby(by=['is_subscriber','category_name'], as_index=False).count()"
   ]
  },
  {
   "cell_type": "code",
   "execution_count": 99,
   "id": "68bdea05",
   "metadata": {},
   "outputs": [
    {
     "data": {
      "text/html": [
       "<div>\n",
       "<style scoped>\n",
       "    .dataframe tbody tr th:only-of-type {\n",
       "        vertical-align: middle;\n",
       "    }\n",
       "\n",
       "    .dataframe tbody tr th {\n",
       "        vertical-align: top;\n",
       "    }\n",
       "\n",
       "    .dataframe thead th {\n",
       "        text-align: right;\n",
       "    }\n",
       "</style>\n",
       "<table border=\"1\" class=\"dataframe\">\n",
       "  <thead>\n",
       "    <tr style=\"text-align: right;\">\n",
       "      <th></th>\n",
       "      <th>is_subscriber</th>\n",
       "      <th>category_name</th>\n",
       "      <th>price</th>\n",
       "    </tr>\n",
       "  </thead>\n",
       "  <tbody>\n",
       "    <tr>\n",
       "      <th>0</th>\n",
       "      <td>non-subscriber</td>\n",
       "      <td>Entertainment</td>\n",
       "      <td>0.00</td>\n",
       "    </tr>\n",
       "    <tr>\n",
       "      <th>1</th>\n",
       "      <td>non-subscriber</td>\n",
       "      <td>Games</td>\n",
       "      <td>0.00</td>\n",
       "    </tr>\n",
       "    <tr>\n",
       "      <th>2</th>\n",
       "      <td>non-subscriber</td>\n",
       "      <td>Photos &amp; Videos</td>\n",
       "      <td>0.00</td>\n",
       "    </tr>\n",
       "    <tr>\n",
       "      <th>3</th>\n",
       "      <td>non-subscriber</td>\n",
       "      <td>Social Networking</td>\n",
       "      <td>0.00</td>\n",
       "    </tr>\n",
       "    <tr>\n",
       "      <th>4</th>\n",
       "      <td>non-subscriber</td>\n",
       "      <td>Utilities</td>\n",
       "      <td>0.00</td>\n",
       "    </tr>\n",
       "    <tr>\n",
       "      <th>5</th>\n",
       "      <td>subscriber</td>\n",
       "      <td>Entertainment</td>\n",
       "      <td>1397391.31</td>\n",
       "    </tr>\n",
       "    <tr>\n",
       "      <th>6</th>\n",
       "      <td>subscriber</td>\n",
       "      <td>Games</td>\n",
       "      <td>12267799.72</td>\n",
       "    </tr>\n",
       "    <tr>\n",
       "      <th>7</th>\n",
       "      <td>subscriber</td>\n",
       "      <td>Photos &amp; Videos</td>\n",
       "      <td>3421675.97</td>\n",
       "    </tr>\n",
       "    <tr>\n",
       "      <th>8</th>\n",
       "      <td>subscriber</td>\n",
       "      <td>Social Networking</td>\n",
       "      <td>625992.02</td>\n",
       "    </tr>\n",
       "    <tr>\n",
       "      <th>9</th>\n",
       "      <td>subscriber</td>\n",
       "      <td>Utilities</td>\n",
       "      <td>1336632.83</td>\n",
       "    </tr>\n",
       "  </tbody>\n",
       "</table>\n",
       "</div>"
      ],
      "text/plain": [
       "    is_subscriber      category_name        price\n",
       "0  non-subscriber      Entertainment         0.00\n",
       "1  non-subscriber              Games         0.00\n",
       "2  non-subscriber    Photos & Videos         0.00\n",
       "3  non-subscriber  Social Networking         0.00\n",
       "4  non-subscriber          Utilities         0.00\n",
       "5      subscriber      Entertainment   1397391.31\n",
       "6      subscriber              Games  12267799.72\n",
       "7      subscriber    Photos & Videos   3421675.97\n",
       "8      subscriber  Social Networking    625992.02\n",
       "9      subscriber          Utilities   1336632.83"
      ]
     },
     "execution_count": 99,
     "metadata": {},
     "output_type": "execute_result"
    }
   ],
   "source": [
    "df_wide[['price','category_name', 'is_subscriber']]\\\n",
    ".groupby(by=['is_subscriber','category_name'], as_index=False).sum()"
   ]
  },
  {
   "cell_type": "code",
   "execution_count": null,
   "id": "eea96f4f",
   "metadata": {},
   "outputs": [],
   "source": []
  },
  {
   "cell_type": "code",
   "execution_count": null,
   "id": "426625b0",
   "metadata": {},
   "outputs": [],
   "source": []
  },
  {
   "cell_type": "code",
   "execution_count": null,
   "id": "fe5ce123",
   "metadata": {},
   "outputs": [],
   "source": []
  }
 ],
 "metadata": {
  "kernelspec": {
   "display_name": "Python 3 (ipykernel)",
   "language": "python",
   "name": "python3"
  },
  "language_info": {
   "codemirror_mode": {
    "name": "ipython",
    "version": 3
   },
   "file_extension": ".py",
   "mimetype": "text/x-python",
   "name": "python",
   "nbconvert_exporter": "python",
   "pygments_lexer": "ipython3",
   "version": "3.9.7"
  }
 },
 "nbformat": 4,
 "nbformat_minor": 5
}
